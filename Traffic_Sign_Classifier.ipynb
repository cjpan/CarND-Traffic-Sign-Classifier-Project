{
 "cells": [
  {
   "cell_type": "markdown",
   "metadata": {},
   "source": [
    "# Self-Driving Car Engineer Nanodegree\n",
    "\n",
    "## Deep Learning\n",
    "\n",
    "## Project: Build a Traffic Sign Recognition Classifier\n",
    "\n",
    "In this notebook, a template is provided for you to implement your functionality in stages, which is required to successfully complete this project. If additional code is required that cannot be included in the notebook, be sure that the Python code is successfully imported and included in your submission if necessary. \n",
    "\n",
    "> **Note**: Once you have completed all of the code implementations, you need to finalize your work by exporting the iPython Notebook as an HTML document. Before exporting the notebook to html, all of the code cells need to have been run so that reviewers can see the final implementation and output. You can then export the notebook by using the menu above and navigating to  \\n\",\n",
    "    \"**File -> Download as -> HTML (.html)**. Include the finished document along with this notebook as your submission. \n",
    "\n",
    "In addition to implementing code, there is a writeup to complete. The writeup should be completed in a separate file, which can be either a markdown file or a pdf document. There is a [write up template](https://github.com/udacity/CarND-Traffic-Sign-Classifier-Project/blob/master/writeup_template.md) that can be used to guide the writing process. Completing the code template and writeup template will cover all of the [rubric points](https://review.udacity.com/#!/rubrics/481/view) for this project.\n",
    "\n",
    "The [rubric](https://review.udacity.com/#!/rubrics/481/view) contains \"Stand Out Suggestions\" for enhancing the project beyond the minimum requirements. The stand out suggestions are optional. If you decide to pursue the \"stand out suggestions\", you can include the code in this Ipython notebook and also discuss the results in the writeup file.\n",
    "\n",
    "\n",
    ">**Note:** Code and Markdown cells can be executed using the **Shift + Enter** keyboard shortcut. In addition, Markdown cells can be edited by typically double-clicking the cell to enter edit mode."
   ]
  },
  {
   "cell_type": "markdown",
   "metadata": {},
   "source": [
    "---\n",
    "## Step 0: Load The Data"
   ]
  },
  {
   "cell_type": "code",
   "execution_count": 1,
   "metadata": {
    "collapsed": false
   },
   "outputs": [],
   "source": [
    "# Load pickled data\n",
    "import pickle\n",
    "\n",
    "# TODO: Fill this in based on where you saved the training and testing data\n",
    "\n",
    "training_file = 'train.p'\n",
    "validation_file= 'valid.p'\n",
    "testing_file = 'test.p'\n",
    "\n",
    "with open(training_file, mode='rb') as f:\n",
    "    train = pickle.load(f)\n",
    "with open(validation_file, mode='rb') as f:\n",
    "    valid = pickle.load(f)\n",
    "with open(testing_file, mode='rb') as f:\n",
    "    test = pickle.load(f)\n",
    "    \n",
    "X_train, y_train = train['features'], train['labels']\n",
    "X_valid, y_valid = valid['features'], valid['labels']\n",
    "X_test, y_test = test['features'], test['labels']"
   ]
  },
  {
   "cell_type": "markdown",
   "metadata": {},
   "source": [
    "---\n",
    "\n",
    "## Step 1: Dataset Summary & Exploration\n",
    "\n",
    "The pickled data is a dictionary with 4 key/value pairs:\n",
    "\n",
    "- `'features'` is a 4D array containing raw pixel data of the traffic sign images, (num examples, width, height, channels).\n",
    "- `'labels'` is a 1D array containing the label/class id of the traffic sign. The file `signnames.csv` contains id -> name mappings for each id.\n",
    "- `'sizes'` is a list containing tuples, (width, height) representing the the original width and height the image.\n",
    "- `'coords'` is a list containing tuples, (x1, y1, x2, y2) representing coordinates of a bounding box around the sign in the image. **THESE COORDINATES ASSUME THE ORIGINAL IMAGE. THE PICKLED DATA CONTAINS RESIZED VERSIONS (32 by 32) OF THESE IMAGES**\n",
    "\n",
    "Complete the basic data summary below. Use python, numpy and/or pandas methods to calculate the data summary rather than hard coding the results. For example, the [pandas shape method](http://pandas.pydata.org/pandas-docs/stable/generated/pandas.DataFrame.shape.html) might be useful for calculating some of the summary results. "
   ]
  },
  {
   "cell_type": "markdown",
   "metadata": {},
   "source": [
    "### Provide a Basic Summary of the Data Set Using Python, Numpy and/or Pandas"
   ]
  },
  {
   "cell_type": "code",
   "execution_count": 2,
   "metadata": {
    "collapsed": false
   },
   "outputs": [
    {
     "name": "stdout",
     "output_type": "stream",
     "text": [
      "Number of training examples = 34799\n",
      "Number of validation examples = 4410\n",
      "Number of testing examples = 12630\n",
      "Image data shape = (32, 32, 3)\n",
      "Number of classes = 43\n"
     ]
    }
   ],
   "source": [
    "### Replace each question mark with the appropriate value. \n",
    "### Use python, pandas or numpy methods rather than hard coding the results\n",
    "\n",
    "# TODO: Number of training examples\n",
    "n_train = X_train.shape[0]\n",
    "\n",
    "# TODO: Number of validation examples.\n",
    "n_valid = X_valid.shape[0]\n",
    "\n",
    "# TODO: Number of testing examples.\n",
    "n_test = X_test.shape[0]\n",
    "\n",
    "# TODO: What's the shape of an traffic sign image?\n",
    "image_shape = X_train.shape[1:]\n",
    "\n",
    "# TODO: How many unique classes/labels there are in the dataset.\n",
    "n_classes = 43\n",
    "\n",
    "print(\"Number of training examples =\", n_train)\n",
    "print(\"Number of validation examples =\", n_valid)\n",
    "print(\"Number of testing examples =\", n_test)\n",
    "print(\"Image data shape =\", image_shape)\n",
    "print(\"Number of classes =\", n_classes)"
   ]
  },
  {
   "cell_type": "markdown",
   "metadata": {},
   "source": [
    "### Include an exploratory visualization of the dataset"
   ]
  },
  {
   "cell_type": "markdown",
   "metadata": {},
   "source": [
    "Visualize the German Traffic Signs Dataset using the pickled file(s). This is open ended, suggestions include: plotting traffic sign images, plotting the count of each sign, etc.\n",
    "\n",
    "The [Matplotlib](http://matplotlib.org/) [examples](http://matplotlib.org/examples/index.html) and [gallery](http://matplotlib.org/gallery.html) pages are a great resource for doing visualizations in Python.\n",
    "\n",
    "**NOTE:** It's recommended you start with something simple first. If you wish to do more, come back to it after you've completed the rest of the sections."
   ]
  },
  {
   "cell_type": "code",
   "execution_count": 3,
   "metadata": {
    "collapsed": false
   },
   "outputs": [
    {
     "data": {
      "image/png": "[encoded data removed]",
      "text/plain": [
       "<matplotlib.figure.Figure at 0x7f9781514320>"
      ]
     },
     "metadata": {},
     "output_type": "display_data"
    }
   ],
   "source": [
    "### Data exploration visualization code goes here.\n",
    "### Feel free to use as many code cells as needed.\n",
    "import matplotlib.pyplot as plt\n",
    "import numpy as np\n",
    "# Visualizations will be shown in the notebook.\n",
    "%matplotlib inline\n",
    "\n",
    "plt.figure(figsize=(10,10))\n",
    "ax1 = plt.subplot(311)\n",
    "ax2 = plt.subplot(312)\n",
    "ax3 = plt.subplot(313)\n",
    "\n",
    "ind = np.arange(n_classes)\n",
    "\n",
    "train_examples = []\n",
    "valid_examples = []\n",
    "test_examples = []\n",
    "\n",
    "for label in ind:\n",
    "    train_examples.append(y_train[y_train==label].shape[0])\n",
    "    valid_examples.append(y_valid[y_valid==label].shape[0])\n",
    "    test_examples.append(y_test[y_test==label].shape[0])\n",
    "\n",
    "ax1.set_ylabel('Number of Examples')\n",
    "#ax1.set_xlabel('Labels')\n",
    "ax1.set_title('Training Examples by Labels')\n",
    "\n",
    "rects1 = ax1.bar(ind, train_examples, color='b')\n",
    "\n",
    "ax2.set_ylabel('Number of Examples')\n",
    "#ax2.set_xlabel('Labels')\n",
    "ax2.set_title('Validation Examples by Labels')\n",
    "\n",
    "rects2 = ax2.bar(ind, valid_examples, color='b')\n",
    "\n",
    "ax3.set_ylabel('Number of Examples')\n",
    "ax3.set_xlabel('Labels')\n",
    "ax3.set_title('Testing Examples by Labels')\n",
    "\n",
    "rects3 = ax3.bar(ind, test_examples, color='b')\n",
    "\n",
    "plt.show()"
   ]
  },
  {
   "cell_type": "markdown",
   "metadata": {},
   "source": [
    "----\n",
    "\n",
    "## Step 2: Design and Test a Model Architecture\n",
    "\n",
    "Design and implement a deep learning model that learns to recognize traffic signs. Train and test your model on the [German Traffic Sign Dataset](http://benchmark.ini.rub.de/?section=gtsrb&subsection=dataset).\n",
    "\n",
    "There are various aspects to consider when thinking about this problem:\n",
    "\n",
    "- Neural network architecture\n",
    "- Play around preprocessing techniques (normalization, rgb to grayscale, etc)\n",
    "- Number of examples per label (some have more than others).\n",
    "- Generate fake data.\n",
    "\n",
    "Here is an example of a [published baseline model on this problem](http://yann.lecun.com/exdb/publis/pdf/sermanet-ijcnn-11.pdf). It's not required to be familiar with the approach used in the paper but, it's good practice to try to read papers like these.\n",
    "\n",
    "**NOTE:** The LeNet-5 implementation shown in the [classroom](https://classroom.udacity.com/nanodegrees/nd013/parts/fbf77062-5703-404e-b60c-95b78b2f3f9e/modules/6df7ae49-c61c-4bb2-a23e-6527e69209ec/lessons/601ae704-1035-4287-8b11-e2c2716217ad/concepts/d4aca031-508f-4e0b-b493-e7b706120f81) at the end of the CNN lesson is a solid starting point. You'll have to change the number of classes and possibly the preprocessing, but aside from that it's plug and play!"
   ]
  },
  {
   "cell_type": "markdown",
   "metadata": {},
   "source": [
    "### Pre-process the Data Set (normalization, grayscale, etc.)"
   ]
  },
  {
   "cell_type": "markdown",
   "metadata": {},
   "source": [
    "Use the code cell (or multiple code cells, if necessary) to implement the first step of your project."
   ]
  },
  {
   "cell_type": "code",
   "execution_count": 4,
   "metadata": {
    "collapsed": false
   },
   "outputs": [
    {
     "data": {
      "text/plain": [
       "<matplotlib.image.AxesImage at 0x7f977b0b2320>"
      ]
     },
     "execution_count": 4,
     "metadata": {},
     "output_type": "execute_result"
    },
    {
     "data": {
      "image/png": "[encoded data removed]",
      "text/plain": [
       "<matplotlib.figure.Figure at 0x7f97b0054fd0>"
      ]
     },
     "metadata": {},
     "output_type": "display_data"
    }
   ],
   "source": [
    "import random\n",
    "index = random.randint(0, len(X_train))\n",
    "\n",
    "image = X_train[index].squeeze()\n",
    "plt.figure(figsize=(1,1))\n",
    "plt.imshow(image, cmap='gray')"
   ]
  },
  {
   "cell_type": "code",
   "execution_count": 5,
   "metadata": {
    "collapsed": false
   },
   "outputs": [
    {
     "data": {
      "text/plain": [
       "<matplotlib.image.AxesImage at 0x7f976428df98>"
      ]
     },
     "execution_count": 5,
     "metadata": {},
     "output_type": "execute_result"
    },
    {
     "data": {
      "image/png": "[encoded data removed]",
      "text/plain": [
       "<matplotlib.figure.Figure at 0x7f977b04be80>"
      ]
     },
     "metadata": {},
     "output_type": "display_data"
    }
   ],
   "source": [
    "import cv2\n",
    "import numpy as np\n",
    "\n",
    "def random_translation(img):\n",
    "    f1 = random.randint(-2, 2)\n",
    "    f2 = random.randint(-2, 2)\n",
    "    d = img.shape[0]\n",
    "    M = np.float32([[1, 0, f1], [0, 1, f2]])\n",
    "    dst = cv2.warpAffine(img, M, (d, d))\n",
    "    return dst\n",
    "\n",
    "def random_rotation(img):\n",
    "    degree = random.randint(-15, 15)\n",
    "    d = img.shape[0]\n",
    "    M = cv2.getRotationMatrix2D((d/2,d/2),degree,1)\n",
    "    dst = cv2.warpAffine(img,M,(d,d))\n",
    "    return dst\n",
    "\n",
    "def random_scaling(img):\n",
    "    f = random.randint(-3, 3)\n",
    "    d = img.shape[0]\n",
    "    pts1 = np.float32([[f, f], [d-f, f], [f, d-f], [d-f,d-f]])\n",
    "    pts2 = np.float32([[0, 0], [d, 0], [0, d], [d, d]])\n",
    "    M = cv2.getPerspectiveTransform(pts1,pts2)\n",
    "    dst = cv2.warpPerspective(img,M,(d, d))\n",
    "    return dst\n",
    "\n",
    "translation = random_translation(image)\n",
    "scaling = random_scaling(image)\n",
    "rotation = random_rotation(image)\n",
    "\n",
    "plt.figure(figsize=(6,1))\n",
    "p1 = plt.subplot(141)\n",
    "p1.set_title('original')\n",
    "p1.imshow(image, cmap='gray')\n",
    "\n",
    "p2 = plt.subplot(142)\n",
    "p2.set_title('translation')\n",
    "p2.imshow(translation, cmap='gray')\n",
    "\n",
    "p3 = plt.subplot(143)\n",
    "p3.set_title('scaling')\n",
    "p3.imshow(scaling, cmap='gray')\n",
    "\n",
    "p4 = plt.subplot(144)\n",
    "p4.set_title('rotation')\n",
    "p4.imshow(rotation, cmap='gray')"
   ]
  },
  {
   "cell_type": "code",
   "execution_count": 6,
   "metadata": {
    "collapsed": false
   },
   "outputs": [],
   "source": [
    "def augment(X):\n",
    "    X_aug = []\n",
    "    for image in X:\n",
    "        translation = random_translation(image)\n",
    "        scaling = random_scaling(image)\n",
    "        rotation = random_rotation(image)\n",
    "        X_aug.append(image)\n",
    "        X_aug.append(translation)\n",
    "        X_aug.append(scaling)\n",
    "        X_aug.append(rotation)\n",
    "    return np.array(X_aug)\n",
    "\n",
    "def preprocess(X):\n",
    "    X_norm = []\n",
    "    for image in X:\n",
    "        image = cv2.cvtColor(image, cv2.COLOR_RGB2YUV)\n",
    "        channel_y = image[:,:,0]\n",
    "        channel_y = (channel_y - np.min(channel_y)) /  (np.max(channel_y) - np.min(channel_y))\n",
    "        channel_u = image[:,:,1]\n",
    "        channel_u = (channel_u - np.min(channel_u)) /  (np.max(channel_u) - np.min(channel_u))\n",
    "        channel_v = image[:,:,2]\n",
    "        channel_v = (channel_v - np.min(channel_v)) /  (np.max(channel_v) - np.min(channel_v))\n",
    "        image = cv2.merge((channel_y, channel_u, channel_v))\n",
    "        X_norm.append(image)\n",
    "    return np.array(X_norm)"
   ]
  },
  {
   "cell_type": "code",
   "execution_count": 7,
   "metadata": {
    "collapsed": false
   },
   "outputs": [
    {
     "name": "stdout",
     "output_type": "stream",
     "text": [
      "(139196, 32, 32, 3)\n",
      "(139196, 32, 32, 3) (34799,)\n"
     ]
    }
   ],
   "source": [
    "X_train_all = augment(X_train)\n",
    "print(X_train_all.shape)\n",
    "\n",
    "X_train_all = preprocess(X_train_all)\n",
    "X_valid = preprocess(X_valid)\n",
    "X_test = preprocess(X_test)\n",
    "\n",
    "y_train_all = np.array([], dtype=np.uint8)\n",
    "for label in y_train:\n",
    "    y_train_all = np.append(y_train_all, [label] * 4)\n",
    "\n",
    "print(X_train_all.shape, y_train.shape)"
   ]
  },
  {
   "cell_type": "code",
   "execution_count": 8,
   "metadata": {
    "collapsed": false
   },
   "outputs": [
    {
     "name": "stdout",
     "output_type": "stream",
     "text": [
      "4\n"
     ]
    },
    {
     "data": {
      "text/plain": [
       "<matplotlib.image.AxesImage at 0x7f9764175fd0>"
      ]
     },
     "execution_count": 8,
     "metadata": {},
     "output_type": "execute_result"
    },
    {
     "data": {
      "image/png": "[encoded data removed]",
      "text/plain": [
       "<matplotlib.figure.Figure at 0x7f97b004e6d8>"
      ]
     },
     "metadata": {},
     "output_type": "display_data"
    }
   ],
   "source": [
    "processed_img = X_train_all[index*4]\n",
    "translation = X_train_all[index*4+1]\n",
    "scaling = X_train_all[index*4+2]\n",
    "rotation = X_train_all[index*4+3]\n",
    "\n",
    "print(y_train_all[index])\n",
    "plt.figure(figsize=(7,1))\n",
    "\n",
    "p1 = plt.subplot(151)\n",
    "p1.set_title('original')\n",
    "p1.imshow(image, cmap='gray')\n",
    "\n",
    "p2 = plt.subplot(152)\n",
    "p2.set_title('preprocessed')\n",
    "p2.imshow(processed_img, cmap='gray')\n",
    "\n",
    "p3 = plt.subplot(153)\n",
    "p3.set_title('translation')\n",
    "p3.imshow(translation, cmap='gray')\n",
    "\n",
    "p4 = plt.subplot(154)\n",
    "p4.set_title('scaling')\n",
    "p4.imshow(scaling, cmap='gray')\n",
    "\n",
    "p5 = plt.subplot(155)\n",
    "p5.set_title('rotation')\n",
    "p5.imshow(rotation, cmap='gray')"
   ]
  },
  {
   "cell_type": "code",
   "execution_count": 9,
   "metadata": {
    "collapsed": false
   },
   "outputs": [],
   "source": [
    "from sklearn.utils import shuffle\n",
    "\n",
    "X_train_all, y_train_all = shuffle(X_train_all, y_train_all)"
   ]
  },
  {
   "cell_type": "markdown",
   "metadata": {},
   "source": [
    "### Model Architecture"
   ]
  },
  {
   "cell_type": "code",
   "execution_count": 10,
   "metadata": {
    "collapsed": true
   },
   "outputs": [],
   "source": [
    "import tensorflow as tf\n",
    "\n",
    "EPOCHS = 20\n",
    "BATCH_SIZE = 128"
   ]
  },
  {
   "cell_type": "code",
   "execution_count": 11,
   "metadata": {
    "collapsed": true
   },
   "outputs": [],
   "source": [
    "import tensorflow as tf\n",
    "from tensorflow.contrib.layers import flatten\n",
    "\n",
    "def LeNet(x):\n",
    "    mu = 0\n",
    "    sigma = 0.1\n",
    "    \n",
    "    # input 32*32*3， output 28*28*24\n",
    "    conv1_W = tf.Variable(tf.truncated_normal(shape=(5,5,3,24), mean=mu, stddev=sigma))\n",
    "    conv1_b = tf.Variable(tf.zeros(24))\n",
    "    conv1 = tf.nn.conv2d(x, conv1_W, strides=[1,1,1,1], padding='VALID') + conv1_b\n",
    "    \n",
    "    conv1 = tf.nn.relu(conv1)\n",
    "    \n",
    "    # input 28*28*24， output 14*14*24\n",
    "    conv1 = tf.nn.max_pool(conv1, ksize=[1,2,2,1], strides=[1,2,2,1], padding='VALID')\n",
    "    \n",
    "    # input 14*14*24， output 10*10*64\n",
    "    conv2_W = tf.Variable(tf.truncated_normal(shape=(5,5,24,64), mean=mu, stddev=sigma))\n",
    "    conv2_b = tf.Variable(tf.zeros(64))\n",
    "    conv2 = tf.nn.conv2d(conv1, conv2_W, strides=[1,1,1,1], padding='VALID') + conv2_b\n",
    "    \n",
    "    conv2 = tf.nn.relu(conv2)\n",
    "    # input 10*10*64， output 5*5*64\n",
    "    conv2 = tf.nn.max_pool(conv2, ksize=[1,2,2,1], strides=[1,2,2,1], padding='VALID')\n",
    "    \n",
    "    # input 5*5*64， output 1600*1\n",
    "    fc0 = flatten(conv2)\n",
    "    \n",
    "    # input 1600*1， output 480*1\n",
    "    fc1_W = tf.Variable(tf.truncated_normal(shape=(1600, 480), mean=mu, stddev=sigma))\n",
    "    fc1_b = tf.Variable(tf.zeros(480))\n",
    "    fc1 = tf.matmul(fc0, fc1_W) + fc1_b\n",
    "    \n",
    "    fc0 = tf.nn.relu(fc1)\n",
    "    \n",
    "    # input 480*1， output 120*1\n",
    "    fc2_W = tf.Variable(tf.truncated_normal(shape=(480, 120), mean=mu, stddev=sigma))\n",
    "    fc2_b = tf.Variable(tf.zeros(120))\n",
    "    fc2 = tf.matmul(fc1, fc2_W) + fc2_b\n",
    "    \n",
    "    fc2 = tf.nn.relu(fc2)\n",
    "    \n",
    "    # input 120*1， output 84*1\n",
    "    fc3_W = tf.Variable(tf.truncated_normal(shape=(120,84), mean=mu, stddev=sigma))\n",
    "    fc3_b = tf.Variable(tf.zeros(84))\n",
    "    fc3 = tf.matmul(fc2, fc3_W) + fc3_b\n",
    "    \n",
    "    fc3 = tf.nn.relu(fc3)\n",
    "    \n",
    "    # input 84*1， output 43*1\n",
    "    fc4_W = tf.Variable(tf.truncated_normal(shape=(84,43), mean=mu, stddev=sigma))\n",
    "    fc4_b = tf.Variable(tf.zeros(43))\n",
    "    fc4 = tf.matmul(fc3, fc4_W) + fc4_b\n",
    "    \n",
    "    return fc4"
   ]
  },
  {
   "cell_type": "markdown",
   "metadata": {},
   "source": [
    "### Train, Validate and Test the Model"
   ]
  },
  {
   "cell_type": "markdown",
   "metadata": {},
   "source": [
    "A validation set can be used to assess how well the model is performing. A low accuracy on the training and validation\n",
    "sets imply underfitting. A high accuracy on the test set but low accuracy on the validation set implies overfitting."
   ]
  },
  {
   "cell_type": "code",
   "execution_count": 12,
   "metadata": {
    "collapsed": false
   },
   "outputs": [],
   "source": [
    "### Train your model here.\n",
    "### Calculate and report the accuracy on the training and validation set.\n",
    "### Once a final model architecture is selected, \n",
    "### the accuracy on the test set should be calculated and reported as well.\n",
    "### Feel free to use as many code cells as needed.\n",
    "x = tf.placeholder(tf.float32, (None,32,32,3))\n",
    "y = tf.placeholder(tf.int32, (None))\n",
    "one_hot_y = tf.one_hot(y, 43)\n",
    "\n",
    "rate = 0.001\n",
    "\n",
    "logits = LeNet(x)\n",
    "cross_entropy = tf.nn.softmax_cross_entropy_with_logits(logits, one_hot_y)\n",
    "loss_operation = tf.reduce_mean(cross_entropy)\n",
    "optimizer = tf.train.AdamOptimizer(learning_rate=rate)\n",
    "training_operation = optimizer.minimize(loss_operation)"
   ]
  },
  {
   "cell_type": "code",
   "execution_count": 13,
   "metadata": {
    "collapsed": false
   },
   "outputs": [],
   "source": [
    "correct_prediction = tf.equal(tf.argmax(logits, 1), tf.argmax(one_hot_y, 1))\n",
    "accuracy_operation = tf.reduce_mean(tf.cast(correct_prediction, tf.float32))\n",
    "saver = tf.train.Saver()\n",
    "\n",
    "def evaluate(X_data, y_data):\n",
    "    num_examples = len(X_data)\n",
    "    total_accuracy = 0\n",
    "    sess = tf.get_default_session()\n",
    "    for offset in range(0, num_examples, BATCH_SIZE):\n",
    "        batch_x, batch_y = X_data[offset:offset+BATCH_SIZE], y_data[offset:offset+BATCH_SIZE]\n",
    "        accuracy = sess.run(accuracy_operation, feed_dict = {x: batch_x, y: batch_y})\n",
    "        total_accuracy += (accuracy*len(batch_x))\n",
    "    return total_accuracy / num_examples"
   ]
  },
  {
   "cell_type": "code",
   "execution_count": 14,
   "metadata": {
    "collapsed": false
   },
   "outputs": [
    {
     "name": "stdout",
     "output_type": "stream",
     "text": [
      "Training...\n",
      "\n",
      "EPOCH 1 ...\n",
      "Training Accuracy = 0.960631\n",
      "\n",
      "Validation Accuracy = 0.920635\n",
      "\n",
      "EPOCH 2 ...\n",
      "Training Accuracy = 0.982665\n",
      "\n",
      "Validation Accuracy = 0.935147\n",
      "\n",
      "EPOCH 3 ...\n",
      "Training Accuracy = 0.991968\n",
      "\n",
      "Validation Accuracy = 0.949660\n",
      "\n",
      "EPOCH 4 ...\n",
      "Training Accuracy = 0.990984\n",
      "\n",
      "Validation Accuracy = 0.934921\n",
      "\n",
      "EPOCH 5 ...\n",
      "Training Accuracy = 0.991286\n",
      "\n",
      "Validation Accuracy = 0.949887\n",
      "\n",
      "EPOCH 6 ...\n",
      "Training Accuracy = 0.992478\n",
      "\n",
      "Validation Accuracy = 0.955782\n",
      "\n",
      "EPOCH 7 ...\n",
      "Training Accuracy = 0.993951\n",
      "\n",
      "Validation Accuracy = 0.967574\n",
      "\n",
      "EPOCH 8 ...\n",
      "Training Accuracy = 0.994655\n",
      "\n",
      "Validation Accuracy = 0.954195\n",
      "\n",
      "EPOCH 9 ...\n",
      "Training Accuracy = 0.994131\n",
      "\n",
      "Validation Accuracy = 0.952608\n",
      "\n",
      "EPOCH 10 ...\n",
      "Training Accuracy = 0.991487\n",
      "\n",
      "Validation Accuracy = 0.957143\n",
      "\n",
      "EPOCH 11 ...\n",
      "Training Accuracy = 0.994734\n",
      "\n",
      "Validation Accuracy = 0.961905\n",
      "\n",
      "EPOCH 12 ...\n",
      "Training Accuracy = 0.996264\n",
      "\n",
      "Validation Accuracy = 0.967800\n",
      "\n",
      "EPOCH 13 ...\n",
      "Training Accuracy = 0.996451\n",
      "\n",
      "Validation Accuracy = 0.964626\n",
      "\n",
      "EPOCH 14 ...\n",
      "Training Accuracy = 0.996803\n",
      "\n",
      "Validation Accuracy = 0.959864\n",
      "\n",
      "EPOCH 15 ...\n",
      "Training Accuracy = 0.997342\n",
      "\n",
      "Validation Accuracy = 0.967120\n",
      "\n",
      "EPOCH 16 ...\n",
      "Training Accuracy = 0.995661\n",
      "\n",
      "Validation Accuracy = 0.973016\n",
      "\n",
      "EPOCH 17 ...\n",
      "Training Accuracy = 0.993606\n",
      "\n",
      "Validation Accuracy = 0.964853\n",
      "\n",
      "EPOCH 18 ...\n",
      "Training Accuracy = 0.995050\n",
      "\n",
      "Validation Accuracy = 0.964853\n",
      "\n",
      "EPOCH 19 ...\n",
      "Training Accuracy = 0.996020\n",
      "\n",
      "Validation Accuracy = 0.966893\n",
      "\n",
      "EPOCH 20 ...\n",
      "Training Accuracy = 0.995934\n",
      "\n",
      "Validation Accuracy = 0.975737\n",
      "\n",
      "Model saved\n"
     ]
    }
   ],
   "source": [
    "with tf.Session() as sess:\n",
    "    sess.run(tf.global_variables_initializer())\n",
    "    num_examples = len(X_train_all)\n",
    "    \n",
    "    print(\"Training...\")\n",
    "    print()\n",
    "    for i in range(EPOCHS):\n",
    "        print(\"EPOCH {} ...\".format(i+1))\n",
    "        X_train_all, y_train_all = shuffle(X_train_all, y_train_all)\n",
    "        for offset in range(0, num_examples, BATCH_SIZE):\n",
    "            end = offset + BATCH_SIZE\n",
    "            batch_x, batch_y = X_train_all[offset:end], y_train_all[offset:end]\n",
    "            sess.run(training_operation, feed_dict={x:batch_x, y:batch_y})\n",
    "            \n",
    "        training_accuracy = evaluate(X_train_all, y_train_all)\n",
    "        print(\"Training Accuracy = {:3f}\".format(training_accuracy))\n",
    "        \n",
    "        validation_accuracy = evaluate(X_valid, y_valid)\n",
    "        print(\"Validation Accuracy = {:3f}\".format(validation_accuracy))\n",
    "        print()\n",
    "        \n",
    "    saver.save(sess, './lenet')\n",
    "    print(\"Model saved\")"
   ]
  },
  {
   "cell_type": "code",
   "execution_count": 15,
   "metadata": {
    "collapsed": false
   },
   "outputs": [
    {
     "name": "stdout",
     "output_type": "stream",
     "text": [
      "Test Accuracy = 0.953\n"
     ]
    }
   ],
   "source": [
    "with tf.Session() as sess:\n",
    "    saver.restore(sess, tf.train.latest_checkpoint('.'))\n",
    "    \n",
    "    test_accuracy = evaluate(X_test, y_test)\n",
    "    print(\"Test Accuracy = {:.3f}\".format(test_accuracy))"
   ]
  },
  {
   "cell_type": "markdown",
   "metadata": {},
   "source": [
    "---\n",
    "\n",
    "## Step 3: Test a Model on New Images\n",
    "\n",
    "To give yourself more insight into how your model is working, download at least five pictures of German traffic signs from the web and use your model to predict the traffic sign type.\n",
    "\n",
    "You may find `signnames.csv` useful as it contains mappings from the class id (integer) to the actual sign name."
   ]
  },
  {
   "cell_type": "code",
   "execution_count": 16,
   "metadata": {
    "collapsed": false
   },
   "outputs": [
    {
     "name": "stdout",
     "output_type": "stream",
     "text": [
      "[[0 'Speed limit (20km/h)']\n",
      " [1 'Speed limit (30km/h)']\n",
      " [2 'Speed limit (50km/h)']\n",
      " [3 'Speed limit (60km/h)']\n",
      " [4 'Speed limit (70km/h)']\n",
      " [5 'Speed limit (80km/h)']\n",
      " [6 'End of speed limit (80km/h)']\n",
      " [7 'Speed limit (100km/h)']\n",
      " [8 'Speed limit (120km/h)']\n",
      " [9 'No passing']\n",
      " [10 'No passing for vehicles over 3.5 metric tons']\n",
      " [11 'Right-of-way at the next intersection']\n",
      " [12 'Priority road']\n",
      " [13 'Yield']\n",
      " [14 'Stop']\n",
      " [15 'No vehicles']\n",
      " [16 'Vehicles over 3.5 metric tons prohibited']\n",
      " [17 'No entry']\n",
      " [18 'General caution']\n",
      " [19 'Dangerous curve to the left']\n",
      " [20 'Dangerous curve to the right']\n",
      " [21 'Double curve']\n",
      " [22 'Bumpy road']\n",
      " [23 'Slippery road']\n",
      " [24 'Road narrows on the right']\n",
      " [25 'Road work']\n",
      " [26 'Traffic signals']\n",
      " [27 'Pedestrians']\n",
      " [28 'Children crossing']\n",
      " [29 'Bicycles crossing']\n",
      " [30 'Beware of ice/snow']\n",
      " [31 'Wild animals crossing']\n",
      " [32 'End of all speed and passing limits']\n",
      " [33 'Turn right ahead']\n",
      " [34 'Turn left ahead']\n",
      " [35 'Ahead only']\n",
      " [36 'Go straight or right']\n",
      " [37 'Go straight or left']\n",
      " [38 'Keep right']\n",
      " [39 'Keep left']\n",
      " [40 'Roundabout mandatory']\n",
      " [41 'End of no passing']\n",
      " [42 'End of no passing by vehicles over 3.5 metric tons']]\n"
     ]
    }
   ],
   "source": [
    "import pandas as pd\n",
    "\n",
    "signnames = np.array(pd.read_csv('signnames.csv'))\n",
    "\n",
    "print(signnames)"
   ]
  },
  {
   "cell_type": "markdown",
   "metadata": {},
   "source": [
    "### Load and Output the Images"
   ]
  },
  {
   "cell_type": "code",
   "execution_count": 17,
   "metadata": {
    "collapsed": false
   },
   "outputs": [
    {
     "data": {
      "image/png": "[encoded data removed]",
      "text/plain": [
       "<matplotlib.figure.Figure at 0x7f959d6f5c18>"
      ]
     },
     "metadata": {},
     "output_type": "display_data"
    }
   ],
   "source": [
    "img_1 = cv2.imread('img_1.jpg', cv2.IMREAD_COLOR)\n",
    "img_1 = cv2.cvtColor(img_1, cv2.COLOR_BGR2RGB)\n",
    "img_2 = cv2.imread('img_2.jpg', cv2.IMREAD_COLOR)\n",
    "img_2 = cv2.cvtColor(img_2, cv2.COLOR_BGR2RGB)\n",
    "img_3 = cv2.imread('img_3.jpg', cv2.IMREAD_COLOR)\n",
    "img_3 = cv2.cvtColor(img_3, cv2.COLOR_BGR2RGB)\n",
    "img_4 = cv2.imread('img_4.jpg', cv2.IMREAD_COLOR)\n",
    "img_4 = cv2.cvtColor(img_4, cv2.COLOR_BGR2RGB)\n",
    "img_5 = cv2.imread('img_5.jpg', cv2.IMREAD_COLOR)\n",
    "img_5 = cv2.cvtColor(img_5, cv2.COLOR_BGR2RGB)\n",
    "\n",
    "images = np.array([img_1, img_2, img_3, img_4, img_5])\n",
    "labels = np.array([18, 33, 24, 8, 30])\n",
    "\n",
    "plt.figure(figsize=(1,10))\n",
    "\n",
    "p1 = plt.subplot(511)\n",
    "p1.set_title('#18. General caution')\n",
    "p1.imshow(img_1, cmap='gray')\n",
    "\n",
    "p2 = plt.subplot(512)\n",
    "p2.set_title('#33. Turn right ahead')\n",
    "p2.imshow(img_2, cmap='gray')\n",
    "\n",
    "p3 = plt.subplot(513)\n",
    "p3.set_title('#24. Road narrows on the right')\n",
    "p3.imshow(img_3, cmap='gray')\n",
    "\n",
    "p4 = plt.subplot(514)\n",
    "p4.set_title('#8. Speed limit (120km/h)')\n",
    "p4.imshow(img_4, cmap='gray')\n",
    "\n",
    "p5 = plt.subplot(515)\n",
    "p5.set_title('#30. Beware of ice/snow')\n",
    "p5.imshow(img_5, cmap='gray')\n",
    "plt.show()"
   ]
  },
  {
   "cell_type": "markdown",
   "metadata": {},
   "source": [
    "### Predict the Sign Type for Each Image"
   ]
  },
  {
   "cell_type": "code",
   "execution_count": 18,
   "metadata": {
    "collapsed": false
   },
   "outputs": [],
   "source": [
    "images = preprocess(images)"
   ]
  },
  {
   "cell_type": "code",
   "execution_count": 19,
   "metadata": {
    "collapsed": false
   },
   "outputs": [
    {
     "name": "stdout",
     "output_type": "stream",
     "text": [
      "[18 33 24  8 28]\n",
      "\n",
      "Prediction of traffic sign #1 is [18 'General caution']\n",
      "Label of traffic sign #1 is [18 'General caution']\n",
      "\n",
      "Prediction of traffic sign #2 is [33 'Turn right ahead']\n",
      "Label of traffic sign #2 is [33 'Turn right ahead']\n",
      "\n",
      "Prediction of traffic sign #3 is [24 'Road narrows on the right']\n",
      "Label of traffic sign #3 is [24 'Road narrows on the right']\n",
      "\n",
      "Prediction of traffic sign #4 is [8 'Speed limit (120km/h)']\n",
      "Label of traffic sign #4 is [8 'Speed limit (120km/h)']\n",
      "\n",
      "Prediction of traffic sign #5 is [28 'Children crossing']\n",
      "Label of traffic sign #5 is [30 'Beware of ice/snow']\n"
     ]
    }
   ],
   "source": [
    "with tf.Session() as sess:\n",
    "    saver.restore(sess, tf.train.latest_checkpoint('.')) \n",
    "    softmax = tf.nn.softmax(logits)\n",
    "    predictions = sess.run(tf.argmax(softmax, 1), feed_dict={x:images})\n",
    "    print(predictions)\n",
    "    test_accuracy = evaluate(images, labels)\n",
    "\n",
    "for i in range(len(labels)):\n",
    "    prediction = predictions[i]\n",
    "    label = labels[i]\n",
    "    \n",
    "    print()\n",
    "    print(\"Prediction of traffic sign #{0} is {1}\".format(i+1, signnames[prediction]))\n",
    "    print(\"Label of traffic sign #{0} is {1}\".format(i+1, signnames[label]))"
   ]
  },
  {
   "cell_type": "markdown",
   "metadata": {},
   "source": [
    "### Analyze Performance"
   ]
  },
  {
   "cell_type": "code",
   "execution_count": 20,
   "metadata": {
    "collapsed": false
   },
   "outputs": [
    {
     "name": "stdout",
     "output_type": "stream",
     "text": [
      "Test Accuracy = 0.800\n"
     ]
    }
   ],
   "source": [
    "### Calculate the accuracy for these 5 new images. \n",
    "### For example, if the model predicted 1 out of 5 signs correctly, it's 20% accurate on these new images.\n",
    "print(\"Test Accuracy = {:.3f}\".format(test_accuracy))"
   ]
  },
  {
   "cell_type": "markdown",
   "metadata": {},
   "source": [
    "### Output Top 5 Softmax Probabilities For Each Image Found on the Web"
   ]
  },
  {
   "cell_type": "markdown",
   "metadata": {},
   "source": [
    "For each of the new images, print out the model's softmax probabilities to show the **certainty** of the model's predictions (limit the output to the top 5 probabilities for each image). [`tf.nn.top_k`](https://www.tensorflow.org/versions/r0.12/api_docs/python/nn.html#top_k) could prove helpful here. \n",
    "\n",
    "The example below demonstrates how tf.nn.top_k can be used to find the top k predictions for each image.\n",
    "\n",
    "`tf.nn.top_k` will return the values and indices (class ids) of the top k predictions. So if k=3, for each sign, it'll return the 3 largest probabilities (out of a possible 43) and the correspoding class ids.\n",
    "\n",
    "Take this numpy array as an example. The values in the array represent predictions. The array contains softmax probabilities for five candidate images with six possible classes. `tk.nn.top_k` is used to choose the three classes with the highest probability:\n",
    "\n",
    "```\n",
    "# (5, 6) array\n",
    "a = np.array([[ 0.24879643,  0.07032244,  0.12641572,  0.34763842,  0.07893497,\n",
    "         0.12789202],\n",
    "       [ 0.28086119,  0.27569815,  0.08594638,  0.0178669 ,  0.18063401,\n",
    "         0.15899337],\n",
    "       [ 0.26076848,  0.23664738,  0.08020603,  0.07001922,  0.1134371 ,\n",
    "         0.23892179],\n",
    "       [ 0.11943333,  0.29198961,  0.02605103,  0.26234032,  0.1351348 ,\n",
    "         0.16505091],\n",
    "       [ 0.09561176,  0.34396535,  0.0643941 ,  0.16240774,  0.24206137,\n",
    "         0.09155967]])\n",
    "```\n",
    "\n",
    "Running it through `sess.run(tf.nn.top_k(tf.constant(a), k=3))` produces:\n",
    "\n",
    "```\n",
    "TopKV2(values=array([[ 0.34763842,  0.24879643,  0.12789202],\n",
    "       [ 0.28086119,  0.27569815,  0.18063401],\n",
    "       [ 0.26076848,  0.23892179,  0.23664738],\n",
    "       [ 0.29198961,  0.26234032,  0.16505091],\n",
    "       [ 0.34396535,  0.24206137,  0.16240774]]), indices=array([[3, 0, 5],\n",
    "       [0, 1, 4],\n",
    "       [0, 5, 1],\n",
    "       [1, 3, 5],\n",
    "       [1, 4, 3]], dtype=int32))\n",
    "```\n",
    "\n",
    "Looking just at the first row we get `[ 0.34763842,  0.24879643,  0.12789202]`, you can confirm these are the 3 largest probabilities in `a`. You'll also notice `[3, 0, 5]` are the corresponding indices."
   ]
  },
  {
   "cell_type": "code",
   "execution_count": 21,
   "metadata": {
    "collapsed": false
   },
   "outputs": [
    {
     "name": "stdout",
     "output_type": "stream",
     "text": [
      "[[  1.00000000e+00   1.95098961e-19   3.71578126e-20   4.97519585e-24\n",
      "    1.41499854e-25]\n",
      " [  1.00000000e+00   1.58604911e-12   1.93075168e-15   5.60762744e-17\n",
      "    3.68192318e-17]\n",
      " [  1.00000000e+00   1.97658834e-10   1.74461265e-10   2.90849185e-11\n",
      "    3.28354748e-12]\n",
      " [  1.00000000e+00   6.96779995e-11   5.34108348e-11   1.44630212e-13\n",
      "    4.88636261e-16]\n",
      " [  9.99998808e-01   1.19036815e-06   8.03207164e-13   7.34417735e-13\n",
      "    8.78626683e-15]]\n",
      "[[18 26 27 31  4]\n",
      " [33 35 39  7 15]\n",
      " [24  0 19 30 27]\n",
      " [ 8  7  0  4  5]\n",
      " [28 30 31 29 18]]\n",
      "\n",
      "Top 5 Softmax Probabilities for traffic sign #1 is:\n",
      "[18 'General caution']\t\t\t\t\t1.0\n",
      "[26 'Traffic signals']\t\t\t\t\t1.950989614484249e-19\n",
      "[27 'Pedestrians']\t\t\t\t\t3.7157812608237234e-20\n",
      "[31 'Wild animals crossing']\t\t\t\t\t4.9751958456569295e-24\n",
      "[4 'Speed limit (70km/h)']\t\t\t\t\t1.4149985411414279e-25\n",
      "\n",
      "Top 5 Softmax Probabilities for traffic sign #2 is:\n",
      "[33 'Turn right ahead']\t\t\t\t\t1.0\n",
      "[35 'Ahead only']\t\t\t\t\t1.586049108888432e-12\n",
      "[39 'Keep left']\t\t\t\t\t1.9307516756851594e-15\n",
      "[7 'Speed limit (100km/h)']\t\t\t\t\t5.607627440830916e-17\n",
      "[15 'No vehicles']\t\t\t\t\t3.681923181538885e-17\n",
      "\n",
      "Top 5 Softmax Probabilities for traffic sign #3 is:\n",
      "[24 'Road narrows on the right']\t\t\t\t\t1.0\n",
      "[0 'Speed limit (20km/h)']\t\t\t\t\t1.976588337448959e-10\n",
      "[19 'Dangerous curve to the left']\t\t\t\t\t1.7446126487907776e-10\n",
      "[30 'Beware of ice/snow']\t\t\t\t\t2.9084918501398604e-11\n",
      "[27 'Pedestrians']\t\t\t\t\t3.2835474790549046e-12\n",
      "\n",
      "Top 5 Softmax Probabilities for traffic sign #4 is:\n",
      "[8 'Speed limit (120km/h)']\t\t\t\t\t1.0\n",
      "[7 'Speed limit (100km/h)']\t\t\t\t\t6.967799948132125e-11\n",
      "[0 'Speed limit (20km/h)']\t\t\t\t\t5.341083478271891e-11\n",
      "[4 'Speed limit (70km/h)']\t\t\t\t\t1.4463021166984114e-13\n",
      "[5 'Speed limit (80km/h)']\t\t\t\t\t4.886362607329424e-16\n",
      "\n",
      "Top 5 Softmax Probabilities for traffic sign #5 is:\n",
      "[28 'Children crossing']\t\t\t\t\t0.9999988079071045\n",
      "[30 'Beware of ice/snow']\t\t\t\t\t1.1903681524927379e-06\n",
      "[31 'Wild animals crossing']\t\t\t\t\t8.032071644077654e-13\n",
      "[29 'Bicycles crossing']\t\t\t\t\t7.34417734959969e-13\n",
      "[18 'General caution']\t\t\t\t\t8.786266832638227e-15\n",
      "\n"
     ]
    }
   ],
   "source": [
    "### Print out the top five softmax probabilities for the predictions on the German traffic sign images found on the web. \n",
    "### Feel free to use as many code cells as needed.\n",
    "with tf.Session() as sess:\n",
    "    saver.restore(sess, tf.train.latest_checkpoint('.')) \n",
    "    softmax = tf.nn.softmax(logits)\n",
    "    result = sess.run(softmax, feed_dict={x:images})\n",
    "    values, indices = tf.nn.top_k(result, 5)\n",
    "    probs = sess.run(values)\n",
    "    predictions = sess.run(indices)\n",
    "\n",
    "print(probs)\n",
    "print(predictions)\n",
    "print()   \n",
    "\n",
    "for i in range(predictions.shape[0]):\n",
    "    print(\"Top 5 Softmax Probabilities for traffic sign #{0} is:\".format(i+1))\n",
    "    for j in range(predictions.shape[1]):\n",
    "        pred = predictions[i][j]\n",
    "        prob = probs[i][j]\n",
    "        print(\"{0}\\t\\t\\t\\t\\t{1}\".format(signnames[pred], prob))\n",
    "    \n",
    "    print()"
   ]
  },
  {
   "cell_type": "markdown",
   "metadata": {},
   "source": [
    "> **Note**: Once you have completed all of the code implementations, you need to finalize your work by exporting the IPython Notebook as an HTML document. Before exporting the notebook to html, all of the code cells need to have been run. You can then export the notebook by using the menu above and navigating to  \\n\",\n",
    "    \"**File -> Download as -> HTML (.html)**. Include the finished document along with this notebook as your submission. "
   ]
  },
  {
   "cell_type": "markdown",
   "metadata": {},
   "source": [
    "### Project Writeup\n",
    "\n",
    "Once you have completed the code implementation, document your results in a project writeup using this [template](https://github.com/udacity/CarND-Traffic-Sign-Classifier-Project/blob/master/writeup_template.md) as a guide. The writeup can be in a markdown or pdf file. "
   ]
  }
 ],
 "metadata": {
  "anaconda-cloud": {},
  "kernelspec": {
   "display_name": "Python 2",
   "language": "python",
   "name": "python2"
  },
  "language_info": {
   "codemirror_mode": {
    "name": "ipython",
    "version": 2
   },
   "file_extension": ".py",
   "mimetype": "text/x-python",
   "name": "python",
   "nbconvert_exporter": "python",
   "pygments_lexer": "ipython2",
   "version": "2.7.11"
  },
  "widgets": {
   "state": {},
   "version": "1.1.2"
  }
 },
 "nbformat": 4,
 "nbformat_minor": 1
}
